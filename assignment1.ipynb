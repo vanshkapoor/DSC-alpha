{
 "cells": [
  {
   "cell_type": "markdown",
   "metadata": {},
   "source": [
    "# ASSIGNMENT 1"
   ]
  },
  {
   "cell_type": "markdown",
   "metadata": {},
   "source": [
    "## QUESTION 1:\n",
    "WAP to find numbers divisible by 7 but not multiple by 5 etween the range of 2000 and 3200"
   ]
  },
  {
   "cell_type": "raw",
   "metadata": {},
   "source": [
    "a=''\n",
    "for i in range(2000,3200):\n",
    "    if i%7 == 0:\n",
    "        if (i%5)!=0:\n",
    "            a+=str(i)\n",
    "            a+=','\n",
    "            \n",
    "print (a)\n",
    "        "
   ]
  },
  {
   "cell_type": "markdown",
   "metadata": {},
   "source": [
    "## QUESTION 2:\n",
    "With a given integral n,WAP to generate a dictionary that contains (i,i*i) such that is an integral between 1 and n and print it"
   ]
  },
  {
   "cell_type": "raw",
   "metadata": {},
   "source": [
    "n = int(input('enter a number'))\n",
    "dic1={}\n",
    "for i in range(1,n):\n",
    "    key=str(i)\n",
    "    value=str(i*i)\n",
    "    dic1[key]=value\n",
    "    \n",
    "print(dic1.items())"
   ]
  },
  {
   "cell_type": "markdown",
   "metadata": {},
   "source": [
    "## QUESTION 3:\n",
    "WAP  to compute factorial of a given number"
   ]
  },
  {
   "cell_type": "raw",
   "metadata": {},
   "source": [
    "f=1\n",
    "n=int(input('enter a number'))\n",
    "for i in range(1,n+1):\n",
    "    f=f*i\n",
    "   \n",
    "print(f)"
   ]
  },
  {
   "cell_type": "markdown",
   "metadata": {},
   "source": [
    "## QUESTION 4:\n",
    "a=[5,7,9,3,2,1,4,2,6,3,0,9,8]\n",
    "\n",
    "(i)WAP to print all the elements of the list that are less than 5\n",
    "\n",
    "(ii)WAP to make a new list that consists of numbers less than 5 from this list in in it and print out this new list\n",
    "\n",
    "(iii)use list comprehension\n",
    "\n",
    "(iv)ask a number from user and check whether the number is present in the list or not"
   ]
  },
  {
   "cell_type": "raw",
   "metadata": {},
   "source": [
    "a=[5,7,9,3,2,1,4,2,6,3,0,9,8]\n",
    "\n",
    "print(\"part (i):\")\n",
    "for i in a:\n",
    "    if(i<5):\n",
    "        print(i)\n",
    "        \n",
    "l=[]\n",
    "for i in a:\n",
    "    if(i<5):\n",
    "        l.append(i)\n",
    "        \n",
    "print(l)\n",
    "\n",
    "n=int(input(\"enter a no to check if it exists or not\"))\n",
    "if n in a:\n",
    "    print('it exists in the list')"
   ]
  },
  {
   "cell_type": "markdown",
   "metadata": {},
   "source": [
    "## QUESTION 5:\n",
    "input a string and print it after captalizing"
   ]
  },
  {
   "cell_type": "raw",
   "metadata": {},
   "source": [
    "rs=''\n",
    "a=input('enter a string')\n",
    "for i in a:\n",
    "    if (ord(i)>=65):\n",
    "        rs+=chr(ord(i)-32)\n",
    "print(rs)"
   ]
  },
  {
   "cell_type": "markdown",
   "metadata": {},
   "source": [
    "## QUESTION 6:\n",
    "Take a decimal number and convert it into binary"
   ]
  },
  {
   "cell_type": "raw",
   "metadata": {},
   "source": [
    "r=[]\n",
    "n=int(input('enter a number:'))\n",
    "while(n>0):\n",
    "    r.append(int(n%2))\n",
    "    n=n//2\n",
    "    \n",
    "print(r[::-1])\n",
    "    "
   ]
  },
  {
   "cell_type": "markdown",
   "metadata": {},
   "source": [
    "## QUESTION 7:\n",
    "Reverse a sring word wise"
   ]
  },
  {
   "cell_type": "raw",
   "metadata": {},
   "source": [
    "str = input('enter a string')\n",
    "l=str.split()\n",
    "l=l[::-1]\n",
    "str = ' '.join(l)\n",
    "print(str)"
   ]
  },
  {
   "cell_type": "markdown",
   "metadata": {},
   "source": [
    "## QUESTION 8:\n",
    "print the pattern:\n",
    "\n",
    "1\n",
    "\n",
    "23\n",
    "\n",
    "345\n",
    "\n",
    "4567\n"
   ]
  },
  {
   "cell_type": "raw",
   "metadata": {},
   "source": [
    "for i in range(0,6):\n",
    "    k=i\n",
    "    for j in range(0,i+1):\n",
    "        print(k+1)\n",
    "        k+=1\n",
    "    print(\"\\r\")"
   ]
  },
  {
   "cell_type": "markdown",
   "metadata": {},
   "source": [
    "## QUESTION 9:\n",
    "define a class named circle which can be constructed by a radius.The circle has a method which can compute the area"
   ]
  },
  {
   "cell_type": "raw",
   "metadata": {},
   "source": [
    "class circle:\n",
    "    def __init__(self,r):\n",
    "        self.r=r\n",
    "    def area(self):\n",
    "        x = 3.14*self.r*self.r\n",
    "        print(x)\n",
    "    \n",
    "    \n",
    "c = circle(10)    \n",
    "c.area()"
   ]
  },
  {
   "cell_type": "markdown",
   "metadata": {},
   "source": [
    "## QUESTION 10:\n",
    "Define a class with at least 2 methods:\n",
    "\n",
    "getString:to get a string\n",
    "\n",
    "printString:to print a string in uppercase\n"
   ]
  },
  {
   "cell_type": "raw",
   "metadata": {},
   "source": [
    "class strgs:\n",
    "    def __init__(self,s):\n",
    "        self.s=s\n",
    "    def getstring(self):\n",
    "        self.s = input('enter a string:')\n",
    "    def printstring(self):\n",
    "        rs=''\n",
    "        for i in self.s:\n",
    "            if (ord(i)>=65):\n",
    "                rs+=chr(ord(i)-32)\n",
    "        print(rs)\n",
    " \n",
    "\n",
    "\n",
    "b=\"this is a sample string\"\n",
    "x = strgs(b)        \n",
    "x.printstring()        "
   ]
  },
  {
   "cell_type": "markdown",
   "metadata": {},
   "source": [
    "## QUESTION 11:\n",
    "WAP to compute the frequency of word from the input and print them alphanumerically"
   ]
  },
  {
   "cell_type": "raw",
   "metadata": {},
   "source": [
    "n = input('input string')\n",
    "l = n.split()\n",
    "nl=[]\n",
    "for w in l:\n",
    "    if w not in nl:\n",
    "        nl.append(w)\n",
    "        \n",
    "for i in nl:\n",
    "    print (l.count(i),i)"
   ]
  }
 ],
 "metadata": {
  "kernelspec": {
   "display_name": "Python 3",
   "language": "python",
   "name": "python3"
  },
  "language_info": {
   "codemirror_mode": {
    "name": "ipython",
    "version": 3
   },
   "file_extension": ".py",
   "mimetype": "text/x-python",
   "name": "python",
   "nbconvert_exporter": "python",
   "pygments_lexer": "ipython3",
   "version": "3.6.5"
  }
 },
 "nbformat": 4,
 "nbformat_minor": 2
}
